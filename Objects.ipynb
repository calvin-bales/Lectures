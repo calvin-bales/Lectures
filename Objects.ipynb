{
 "cells": [
  {
   "cell_type": "markdown",
   "metadata": {},
   "source": [
    "## Exploring simple object oriented functionality"
   ]
  },
  {
   "cell_type": "code",
   "execution_count": 1,
   "metadata": {},
   "outputs": [],
   "source": [
    "import numpy as np\n",
    "\n",
    "\n",
    "class shape():\n",
    "\n",
    "    def __init__(self):\n",
    "        self.shape = 'shape'\n",
    "\n",
    "    def __str__(self): #defines what print does ex: s1=shape() print(s1) --> This is a shape\n",
    "        return \"This is a {}.\".format(self.shape)\n",
    "\n",
    "\n",
    "\n",
    "class regular_polygon(shape):\n",
    "\n",
    "    def __init__(self,n_sides, edge_length):\n",
    "        super().__init__() #forces init of shape to run\n",
    "        self.shape = 'regular polygon'#below are attributes given to regular polygon\n",
    "        self.edge_length = edge_length\n",
    "        self.n_sides = n_sides\n",
    "        self.int_angle = (n_sides-2)*180/n_sides\n",
    "\n",
    "\n",
    "    # special methods to change how the addition and multiplication operators work\n",
    "    # there are other special methods as well\n",
    "\n",
    "\n",
    "    def __add__(self,s): #says what it means to add a number to a shape (same with multiply)\n",
    "        new_edge = self.edge_length + s\n",
    "        self.edge_length = new_edge #doesn't return anything so don't do s2=s2+2\n",
    "\n",
    "        #return regular_polygon(self.n_sides, new_edge) #with this uncommented you can do s3=s2+2 and s3 will become s2+2\n",
    "\n",
    "    def __mul__(self,s):\n",
    "        scaled_edge = self.edge_length * s\n",
    "        self.edge_length = scaled_edge\n",
    "\n",
    "\n",
    "        #return regular_polygon(self.n_sides,scaled_edge)\n",
    "\n",
    "    # some operations may not commute, so we need to explicitly define\n",
    "    #  a*b = b*a and a+b = b+a\n",
    "    __radd__ = __add__\n",
    "    __rmul__ = __mul__\n",
    "\n",
    "    def perimeter(self): #self argument is automatically passed so you don't need anything in parenthases\n",
    "        return self.edge_length*self.n_sides\n",
    "\n",
    "    def area(self):\n",
    "        A = 0.25*self.n_sides*self.edge_length**2/np.tan(np.pi/self.n_sides)\n",
    "\n",
    "        return A\n",
    "\n",
    "\n",
    "\n",
    "class square(regular_polygon):\n",
    "\n",
    "    def __init__(self,edge_length):\n",
    "\n",
    "        super().__init__(4, edge_length)\n",
    "\n",
    "        self.shape = 'square'\n",
    "\n",
    "\n",
    "    #def __mul__(self,s):\n",
    "\n",
    "        #scaled_edge = self.edge_length * s\n",
    "        # self.edge_length = scaled_edge\n",
    "\n",
    "        #return square(scaled_edge)\n"
   ]
  },
  {
   "cell_type": "code",
   "execution_count": 5,
   "metadata": {},
   "outputs": [
    {
     "name": "stdout",
     "output_type": "stream",
     "text": [
      "This is a shape.\n",
      "3\n"
     ]
    },
    {
     "data": {
      "text/plain": [
       "'shape'"
      ]
     },
     "execution_count": 5,
     "metadata": {},
     "output_type": "execute_result"
    }
   ],
   "source": [
    "s1=shape()\n",
    "print(s1)\n",
    "\n",
    "s1.shape"
   ]
  },
  {
   "cell_type": "code",
   "execution_count": 10,
   "metadata": {},
   "outputs": [
    {
     "data": {
      "text/plain": [
       "0.43301270189221946"
      ]
     },
     "execution_count": 10,
     "metadata": {},
     "output_type": "execute_result"
    }
   ],
   "source": [
    "s2=regular_polygon(3,1)\n",
    "s2.area()"
   ]
  },
  {
   "cell_type": "code",
   "execution_count": 9,
   "metadata": {},
   "outputs": [
    {
     "data": {
      "text/plain": [
       "3"
      ]
     },
     "execution_count": 9,
     "metadata": {},
     "output_type": "execute_result"
    }
   ],
   "source": [
    "s2.perimeter()"
   ]
  },
  {
   "cell_type": "code",
   "execution_count": 11,
   "metadata": {},
   "outputs": [],
   "source": [
    "s2+2"
   ]
  },
  {
   "cell_type": "code",
   "execution_count": 13,
   "metadata": {},
   "outputs": [
    {
     "data": {
      "text/plain": [
       "3.8971143170299753"
      ]
     },
     "execution_count": 13,
     "metadata": {},
     "output_type": "execute_result"
    }
   ],
   "source": [
    "s2.area()"
   ]
  },
  {
   "cell_type": "code",
   "execution_count": null,
   "metadata": {},
   "outputs": [],
   "source": []
  }
 ],
 "metadata": {
  "kernelspec": {
   "display_name": "Python 3",
   "language": "python",
   "name": "python3"
  },
  "language_info": {
   "codemirror_mode": {
    "name": "ipython",
    "version": 3
   },
   "file_extension": ".py",
   "mimetype": "text/x-python",
   "name": "python",
   "nbconvert_exporter": "python",
   "pygments_lexer": "ipython3",
   "version": "3.7.3"
  }
 },
 "nbformat": 4,
 "nbformat_minor": 4
}
